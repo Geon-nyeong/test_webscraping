{
 "cells": [
  {
   "cell_type": "code",
   "execution_count": 1,
   "id": "41f7a985",
   "metadata": {},
   "outputs": [],
   "source": [
    "from selenium import webdriver"
   ]
  },
  {
   "cell_type": "code",
   "execution_count": 2,
   "id": "d889b8f9",
   "metadata": {},
   "outputs": [],
   "source": [
    "browser = webdriver.Chrome('./chromedriver.exe')"
   ]
  },
  {
   "cell_type": "code",
   "execution_count": 3,
   "id": "0b63c2ce",
   "metadata": {},
   "outputs": [],
   "source": [
    "browser.get('http://ticket.interpark.com/Contents/Ranking?smid1=s_menu&smid2=performance')"
   ]
  },
  {
   "cell_type": "code",
   "execution_count": 4,
   "id": "61a897c2",
   "metadata": {},
   "outputs": [],
   "source": [
    "html = browser.page_source"
   ]
  },
  {
   "cell_type": "code",
   "execution_count": 5,
   "id": "68020354",
   "metadata": {},
   "outputs": [],
   "source": [
    "from bs4 import BeautifulSoup"
   ]
  },
  {
   "cell_type": "code",
   "execution_count": 6,
   "id": "8b478cd4",
   "metadata": {},
   "outputs": [],
   "source": [
    "soup = BeautifulSoup(html, 'html.parser')"
   ]
  },
  {
   "cell_type": "code",
   "execution_count": 7,
   "id": "33a591a5",
   "metadata": {},
   "outputs": [
    {
     "data": {
      "text/plain": [
       "(1, bs4.BeautifulSoup)"
      ]
     },
     "execution_count": 7,
     "metadata": {},
     "output_type": "execute_result"
    }
   ],
   "source": [
    "len(soup), type(soup)"
   ]
  },
  {
   "cell_type": "code",
   "execution_count": 10,
   "id": "c9de1bdd",
   "metadata": {},
   "outputs": [],
   "source": [
    "tags = soup.select('div .genreTitle')"
   ]
  },
  {
   "cell_type": "code",
   "execution_count": 11,
   "id": "53c962b2",
   "metadata": {},
   "outputs": [
    {
     "data": {
      "text/plain": [
       "(8, bs4.element.ResultSet)"
      ]
     },
     "execution_count": 11,
     "metadata": {},
     "output_type": "execute_result"
    }
   ],
   "source": [
    "len(tags), type(tags)"
   ]
  },
  {
   "cell_type": "code",
   "execution_count": 13,
   "id": "7225548b",
   "metadata": {},
   "outputs": [],
   "source": [
    "title = soup.select('a.prdName')"
   ]
  },
  {
   "cell_type": "code",
   "execution_count": 14,
   "id": "a23da444",
   "metadata": {},
   "outputs": [
    {
     "data": {
      "text/plain": [
       "(200, bs4.element.ResultSet)"
      ]
     },
     "execution_count": 14,
     "metadata": {},
     "output_type": "execute_result"
    }
   ],
   "source": [
    "len(title), type(title)"
   ]
  },
  {
   "cell_type": "code",
   "execution_count": null,
   "id": "abb59320",
   "metadata": {},
   "outputs": [],
   "source": [
    "date = soup.select('a.prdDuration')"
   ]
  }
 ],
 "metadata": {
  "kernelspec": {
   "display_name": "Python 3",
   "language": "python",
   "name": "python3"
  },
  "language_info": {
   "codemirror_mode": {
    "name": "ipython",
    "version": 3
   },
   "file_extension": ".py",
   "mimetype": "text/x-python",
   "name": "python",
   "nbconvert_exporter": "python",
   "pygments_lexer": "ipython3",
   "version": "3.8.10"
  }
 },
 "nbformat": 4,
 "nbformat_minor": 5
}
