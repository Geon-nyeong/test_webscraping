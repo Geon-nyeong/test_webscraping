{
 "cells": [
  {
   "cell_type": "code",
   "execution_count": 1,
   "id": "4048dc23",
   "metadata": {},
   "outputs": [],
   "source": [
    "# !python -m pip install selenium"
   ]
  },
  {
   "cell_type": "code",
   "execution_count": 2,
   "id": "f4ff6dea",
   "metadata": {},
   "outputs": [],
   "source": [
    "# auto reload\n",
    "%load_ext autoreload\n",
    "%autoreload 2"
   ]
  },
  {
   "cell_type": "code",
   "execution_count": 3,
   "id": "d87733f6",
   "metadata": {},
   "outputs": [],
   "source": [
    "from selenium import webdriver"
   ]
  },
  {
   "cell_type": "code",
   "execution_count": 4,
   "id": "2535749c",
   "metadata": {
    "scrolled": true
   },
   "outputs": [
    {
     "name": "stdout",
     "output_type": "stream",
     "text": [
      " C 드라이브의 볼륨에는 이름이 없습니다.\n",
      " 볼륨 일련 번호: 4AC3-7D99\n",
      "\n",
      " C:\\Develops\\test_webscraping 디렉터리\n",
      "\n",
      "2021-06-25  오전 10:28        11,107,328 chromedriver.exe\n",
      "               1개 파일          11,107,328 바이트\n",
      "               0개 디렉터리  96,511,193,088 바이트 남음\n"
     ]
    }
   ],
   "source": [
    "!dir .\\chromedriver.exe"
   ]
  },
  {
   "cell_type": "code",
   "execution_count": 5,
   "id": "c561fb17",
   "metadata": {
    "scrolled": true
   },
   "outputs": [
    {
     "data": {
      "text/plain": [
       "<selenium.webdriver.chrome.webdriver.WebDriver (session=\"1ed26079d9ee91add80ceba9f7ab167e\")>"
      ]
     },
     "execution_count": 5,
     "metadata": {},
     "output_type": "execute_result"
    }
   ],
   "source": [
    "webdriver.Chrome('./chromedriver.exe')"
   ]
  },
  {
   "cell_type": "code",
   "execution_count": null,
   "id": "f22b031e",
   "metadata": {},
   "outputs": [],
   "source": [
    "\n"
   ]
  },
  {
   "cell_type": "code",
   "execution_count": null,
   "id": "02f106c6",
   "metadata": {},
   "outputs": [],
   "source": []
  }
 ],
 "metadata": {
  "kernelspec": {
   "display_name": "Python 3",
   "language": "python",
   "name": "python3"
  },
  "language_info": {
   "codemirror_mode": {
    "name": "ipython",
    "version": 3
   },
   "file_extension": ".py",
   "mimetype": "text/x-python",
   "name": "python",
   "nbconvert_exporter": "python",
   "pygments_lexer": "ipython3",
   "version": "3.8.10"
  }
 },
 "nbformat": 4,
 "nbformat_minor": 5
}
