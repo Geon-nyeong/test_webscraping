{
 "cells": [
  {
   "cell_type": "code",
   "execution_count": 6,
   "id": "4245d510",
   "metadata": {},
   "outputs": [],
   "source": [
    "import requests"
   ]
  },
  {
   "cell_type": "code",
   "execution_count": 7,
   "id": "7a53ddca",
   "metadata": {},
   "outputs": [],
   "source": [
    "path = 'http://media.daum.net/economic/'\n",
    "req = requests.get(path)"
   ]
  },
  {
   "cell_type": "code",
   "execution_count": 8,
   "id": "92f6563d",
   "metadata": {},
   "outputs": [
    {
     "data": {
      "text/plain": [
       "200"
      ]
     },
     "execution_count": 8,
     "metadata": {},
     "output_type": "execute_result"
    }
   ],
   "source": [
    "req.status_code"
   ]
  },
  {
   "cell_type": "code",
   "execution_count": 9,
   "id": "57fe2ce0",
   "metadata": {},
   "outputs": [],
   "source": [
    "from bs4 import BeautifulSoup "
   ]
  },
  {
   "cell_type": "code",
   "execution_count": 12,
   "id": "d766221a",
   "metadata": {
    "scrolled": true
   },
   "outputs": [],
   "source": [
    "soup = BeautifulSoup(req.content, 'html.parser')"
   ]
  },
  {
   "cell_type": "code",
   "execution_count": 13,
   "id": "70069469",
   "metadata": {},
   "outputs": [
    {
     "data": {
      "text/plain": [
       "bs4.BeautifulSoup"
      ]
     },
     "execution_count": 13,
     "metadata": {},
     "output_type": "execute_result"
    }
   ],
   "source": [
    "type(soup)"
   ]
  },
  {
   "cell_type": "code",
   "execution_count": 15,
   "id": "4d823d5c",
   "metadata": {
    "scrolled": true
   },
   "outputs": [
    {
     "data": {
      "text/plain": [
       "bs4.element.ResultSet"
      ]
     },
     "execution_count": 15,
     "metadata": {},
     "output_type": "execute_result"
    }
   ],
   "source": [
    "result = soup.select('div strong.tit_thumb > a[href].link_txt')\n",
    "type(result) #ResultSet은 리스트"
   ]
  },
  {
   "cell_type": "code",
   "execution_count": 16,
   "id": "d62a0108",
   "metadata": {},
   "outputs": [
    {
     "data": {
      "text/plain": [
       "<a class=\"link_txt\" data-tiara-custom=\"contentUniqueKey=hamny-20210624161729105\" data-tiara-id=\"20210624161729105\" data-tiara-layer=\"article_main\" data-tiara-ordnum=\"1\" data-tiara-type=\"harmony\" href=\"https://news.v.daum.net/v/20210624161729105\">재산권 침해 논란에 국토부·서울시 \"조합원 지위 제한, 소급·일괄적용 아냐\"</a>"
      ]
     },
     "execution_count": 16,
     "metadata": {},
     "output_type": "execute_result"
    }
   ],
   "source": [
    "result[0] #태그, 어트리뷰츠,텍스트 html요소?!"
   ]
  },
  {
   "cell_type": "code",
   "execution_count": 17,
   "id": "d7a3e8b9",
   "metadata": {},
   "outputs": [
    {
     "data": {
      "text/plain": [
       "'재산권 침해 논란에 국토부·서울시 \"조합원 지위 제한, 소급·일괄적용 아냐\"'"
      ]
     },
     "execution_count": 17,
     "metadata": {},
     "output_type": "execute_result"
    }
   ],
   "source": [
    "result[0].text"
   ]
  },
  {
   "cell_type": "code",
   "execution_count": 18,
   "id": "72eaeca1",
   "metadata": {},
   "outputs": [],
   "source": [
    "tag = result[0]"
   ]
  },
  {
   "cell_type": "code",
   "execution_count": 19,
   "id": "2d267ac2",
   "metadata": {},
   "outputs": [
    {
     "data": {
      "text/plain": [
       "'재산권 침해 논란에 국토부·서울시 \"조합원 지위 제한, 소급·일괄적용 아냐\"'"
      ]
     },
     "execution_count": 19,
     "metadata": {},
     "output_type": "execute_result"
    }
   ],
   "source": [
    "tag.text"
   ]
  },
  {
   "cell_type": "code",
   "execution_count": 20,
   "id": "0ca217d9",
   "metadata": {},
   "outputs": [
    {
     "data": {
      "text/plain": [
       "'https://news.v.daum.net/v/20210624161729105'"
      ]
     },
     "execution_count": 20,
     "metadata": {},
     "output_type": "execute_result"
    }
   ],
   "source": [
    "tag['href']"
   ]
  },
  {
   "cell_type": "code",
   "execution_count": 23,
   "id": "0fa772a2",
   "metadata": {},
   "outputs": [
    {
     "name": "stdout",
     "output_type": "stream",
     "text": [
      "재산권 침해 논란에 국토부·서울시 \"조합원 지위 제한, 소급·일괄적용 아냐\" https://news.v.daum.net/v/20210624161729105\n",
      "삼성·현대차 등 금융복합기업 감독 본격화..3년마다 위험평가 https://news.v.daum.net/v/20210624161440968\n",
      "'급식 몰아주기'에 사상 최대 과징금..삼성 \"행정소송할 것\" https://news.v.daum.net/v/20210624160716684\n",
      "금투협 채권포럼..\"통화정책 정상화 임박, 만기별 금리 차별화\" https://news.v.daum.net/v/20210624160022231\n",
      "재난지원금 소득하위 80%, 자영업자 지원 600만원 이상 유력 https://news.v.daum.net/v/20210624160147331\n",
      "유통업계, 동행세일 첫 날..직원·고객 \"그게 뭐예요?\" https://v.daum.net/v/20210624154958695\n",
      "\"만기 채우면 저축보다 금리 높아\" 속여 팔리는 종신보험의 몰락 https://v.daum.net/v/20210624153624127\n",
      "\"초보라도 와서 일해 달라\"..인테리어 시공현장 가보니 https://v.daum.net/v/20210624110132861\n",
      "5인 가구 125만원 재난지원금 받는다 https://v.daum.net/v/20210624155336880\n",
      "110km 달려 출퇴근한다는 중학교 교사..불법청약 299건 수사의뢰 https://v.daum.net/v/20210624110016693\n",
      "노동계, 내년 최저임금 1만800원 요구..올보다 24% 올려 https://v.daum.net/v/20210624134540585\n",
      "당정, 재난지원금 소득하위 80%로 확정..4인가구 100만원 https://v.daum.net/v/20210624152500565\n",
      "'직원 식사'로 檢 수사받게 된 삼성..\"해도 너무한다\" https://v.daum.net/v/20210624132741920\n",
      "'직원 식사'로 檢 수사받게 된 삼성..\"해도 너무한다\" https://v.daum.net/v/20210624132741920\n",
      "당정, 재난지원금 소득하위 80%로 확정..4인가구 100만원 https://v.daum.net/v/20210624152500565\n",
      "노동계, 내년 최저임금 1만800원 요구..올보다 24% 올려 https://v.daum.net/v/20210624134540585\n",
      "\"우리도 배터리 직접 만들자\" 노조 요구에..사측은 난감 https://v.daum.net/v/20210624113146517\n"
     ]
    }
   ],
   "source": [
    "for tag in result:\n",
    "    print(tag.text.strip(), tag['href'].strip())"
   ]
  },
  {
   "cell_type": "code",
   "execution_count": null,
   "id": "5793d1e8",
   "metadata": {},
   "outputs": [],
   "source": []
  }
 ],
 "metadata": {
  "kernelspec": {
   "display_name": "Python 3",
   "language": "python",
   "name": "python3"
  },
  "language_info": {
   "codemirror_mode": {
    "name": "ipython",
    "version": 3
   },
   "file_extension": ".py",
   "mimetype": "text/x-python",
   "name": "python",
   "nbconvert_exporter": "python",
   "pygments_lexer": "ipython3",
   "version": "3.8.10"
  }
 },
 "nbformat": 4,
 "nbformat_minor": 5
}
