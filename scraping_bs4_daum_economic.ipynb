{
 "cells": [
  {
   "cell_type": "code",
   "execution_count": 27,
   "id": "4245d510",
   "metadata": {},
   "outputs": [],
   "source": [
    "import requests"
   ]
  },
  {
   "cell_type": "code",
   "execution_count": 28,
   "id": "7a53ddca",
   "metadata": {},
   "outputs": [],
   "source": [
    "path = 'http://media.daum.net/economic/'\n",
    "req = requests.get(path)"
   ]
  },
  {
   "cell_type": "code",
   "execution_count": 29,
   "id": "92f6563d",
   "metadata": {},
   "outputs": [
    {
     "data": {
      "text/plain": [
       "200"
      ]
     },
     "execution_count": 29,
     "metadata": {},
     "output_type": "execute_result"
    }
   ],
   "source": [
    "req.status_code"
   ]
  },
  {
   "cell_type": "code",
   "execution_count": 30,
   "id": "57fe2ce0",
   "metadata": {},
   "outputs": [],
   "source": [
    "from bs4 import BeautifulSoup "
   ]
  },
  {
   "cell_type": "code",
   "execution_count": 31,
   "id": "d766221a",
   "metadata": {
    "scrolled": true
   },
   "outputs": [],
   "source": [
    "soup = BeautifulSoup(req.content, 'html.parser')"
   ]
  },
  {
   "cell_type": "code",
   "execution_count": 32,
   "id": "70069469",
   "metadata": {},
   "outputs": [
    {
     "data": {
      "text/plain": [
       "bs4.BeautifulSoup"
      ]
     },
     "execution_count": 32,
     "metadata": {},
     "output_type": "execute_result"
    }
   ],
   "source": [
    "type(soup)"
   ]
  },
  {
   "cell_type": "code",
   "execution_count": 33,
   "id": "4d823d5c",
   "metadata": {
    "scrolled": true
   },
   "outputs": [
    {
     "data": {
      "text/plain": [
       "bs4.element.ResultSet"
      ]
     },
     "execution_count": 33,
     "metadata": {},
     "output_type": "execute_result"
    }
   ],
   "source": [
    "result = soup.select('div strong.tit_thumb > a[href].link_txt')\n",
    "type(result) #ResultSet은 리스트"
   ]
  },
  {
   "cell_type": "code",
   "execution_count": 34,
   "id": "d62a0108",
   "metadata": {},
   "outputs": [
    {
     "data": {
      "text/plain": [
       "<a class=\"link_txt\" data-tiara-custom=\"contentUniqueKey=hamny-20210624171137447\" data-tiara-id=\"20210624171137447\" data-tiara-layer=\"article_main\" data-tiara-ordnum=\"1\" data-tiara-type=\"harmony\" href=\"https://news.v.daum.net/v/20210624171137447\">정용진발 이커머스 지각변동..'승자의 저주' 우려 없나</a>"
      ]
     },
     "execution_count": 34,
     "metadata": {},
     "output_type": "execute_result"
    }
   ],
   "source": [
    "result[0] #태그, 어트리뷰츠,텍스트 html요소?!"
   ]
  },
  {
   "cell_type": "code",
   "execution_count": 35,
   "id": "d7a3e8b9",
   "metadata": {},
   "outputs": [
    {
     "data": {
      "text/plain": [
       "\"정용진발 이커머스 지각변동..'승자의 저주' 우려 없나\""
      ]
     },
     "execution_count": 35,
     "metadata": {},
     "output_type": "execute_result"
    }
   ],
   "source": [
    "result[0].text"
   ]
  },
  {
   "cell_type": "code",
   "execution_count": 36,
   "id": "72eaeca1",
   "metadata": {},
   "outputs": [],
   "source": [
    "tag = result[0]"
   ]
  },
  {
   "cell_type": "code",
   "execution_count": 37,
   "id": "2d267ac2",
   "metadata": {},
   "outputs": [
    {
     "data": {
      "text/plain": [
       "\"정용진발 이커머스 지각변동..'승자의 저주' 우려 없나\""
      ]
     },
     "execution_count": 37,
     "metadata": {},
     "output_type": "execute_result"
    }
   ],
   "source": [
    "tag.text"
   ]
  },
  {
   "cell_type": "code",
   "execution_count": null,
   "id": "108072c0",
   "metadata": {},
   "outputs": [],
   "source": [
    "[\n",
    "    [tittle, link],\n",
    "    [tittle, link2],\n",
    "    [tittle, link3]\n",
    "]"
   ]
  },
  {
   "cell_type": "code",
   "execution_count": 38,
   "id": "0ca217d9",
   "metadata": {},
   "outputs": [
    {
     "data": {
      "text/plain": [
       "'https://news.v.daum.net/v/20210624171137447'"
      ]
     },
     "execution_count": 38,
     "metadata": {},
     "output_type": "execute_result"
    }
   ],
   "source": [
    "tag['href']"
   ]
  },
  {
   "cell_type": "code",
   "execution_count": 40,
   "id": "0fa772a2",
   "metadata": {},
   "outputs": [
    {
     "data": {
      "text/plain": [
       "17"
      ]
     },
     "execution_count": 40,
     "metadata": {},
     "output_type": "execute_result"
    }
   ],
   "source": [
    "contents = []\n",
    "for tag in result:\n",
    "#     print(tag.text.strip(), tag['href'].strip())\n",
    "    title = tag.text.strip()\n",
    "    link = tag['href'].strip()\n",
    "    content = [title, link]\n",
    "    contents.append(content)\n",
    "len(contents)"
   ]
  },
  {
   "cell_type": "code",
   "execution_count": 41,
   "id": "5793d1e8",
   "metadata": {},
   "outputs": [
    {
     "data": {
      "text/plain": [
       "[[\"정용진발 이커머스 지각변동..'승자의 저주' 우려 없나\",\n",
       "  'https://news.v.daum.net/v/20210624171137447'],\n",
       " ['재난지원금 소득하위 80% 유력..가구당 100만원 이상도 검토',\n",
       "  'https://news.v.daum.net/v/20210624170820312'],\n",
       " ['신세계 이마트, 이베이코리아 3조4000억원에 인수 .. e커머스 2위 등극',\n",
       "  'https://news.v.daum.net/v/20210624170820311'],\n",
       " ['경총 \"최저임금 1만800원, 소상공인·중기에 충격\"',\n",
       "  'https://news.v.daum.net/v/20210624170625240'],\n",
       " ['신세계, 3.4조에 이베이코리아 품었다..이커머스 2위로',\n",
       "  'https://news.v.daum.net/v/20210624165908899'],\n",
       " ['유통업계, 동행세일 첫 날..직원·고객 \"그게 뭐예요?\"', 'https://v.daum.net/v/20210624154958695'],\n",
       " [\"'5년마다 선수 교체' 시총 2위, 누가 먼저 따라잡나\", 'https://v.daum.net/v/20210624164609410'],\n",
       " ['\\'직원 식사\\'로 檢 수사받게 된 삼성..\"해도 너무한다\"',\n",
       "  'https://v.daum.net/v/20210624132741920'],\n",
       " ['재난지원금 4인 가구 100만, 소상공 700만 윤곽..8~9월 지급',\n",
       "  'https://v.daum.net/v/20210624161025809'],\n",
       " ['재난지원금 소득상위 20% 제외 가닥..캐시백 50만원선 확대',\n",
       "  'https://v.daum.net/v/20210624060051621'],\n",
       " ['\"초보라도 와서 일해 달라\"..인테리어 시공현장 가보니', 'https://v.daum.net/v/20210624110132861'],\n",
       " ['당정, 재난지원금 소득하위 80%로 확정..4인가구 100만원',\n",
       "  'https://v.daum.net/v/20210624152500565'],\n",
       " ['5인 가구 125만원 재난지원금 받는다', 'https://v.daum.net/v/20210624155336880'],\n",
       " ['\\'직원 식사\\'로 檢 수사받게 된 삼성..\"해도 너무한다\"',\n",
       "  'https://v.daum.net/v/20210624132741920'],\n",
       " ['5인 가구 125만원 재난지원금 받는다', 'https://v.daum.net/v/20210624155336880'],\n",
       " ['당정, 재난지원금 소득하위 80%로 확정..4인가구 100만원',\n",
       "  'https://v.daum.net/v/20210624152500565'],\n",
       " ['노동계, 내년 최저임금 1만800원 요구..올보다 24% 올려',\n",
       "  'https://v.daum.net/v/20210624134540585']]"
      ]
     },
     "execution_count": 41,
     "metadata": {},
     "output_type": "execute_result"
    }
   ],
   "source": [
    "contents"
   ]
  },
  {
   "cell_type": "code",
   "execution_count": 42,
   "id": "923d5113",
   "metadata": {},
   "outputs": [],
   "source": [
    "import pandas"
   ]
  },
  {
   "cell_type": "code",
   "execution_count": 51,
   "id": "85b04801",
   "metadata": {},
   "outputs": [
    {
     "data": {
      "text/html": [
       "<div>\n",
       "<style scoped>\n",
       "    .dataframe tbody tr th:only-of-type {\n",
       "        vertical-align: middle;\n",
       "    }\n",
       "\n",
       "    .dataframe tbody tr th {\n",
       "        vertical-align: top;\n",
       "    }\n",
       "\n",
       "    .dataframe thead th {\n",
       "        text-align: right;\n",
       "    }\n",
       "</style>\n",
       "<table border=\"1\" class=\"dataframe\">\n",
       "  <thead>\n",
       "    <tr style=\"text-align: right;\">\n",
       "      <th></th>\n",
       "      <th>Headline</th>\n",
       "      <th>Link</th>\n",
       "    </tr>\n",
       "  </thead>\n",
       "  <tbody>\n",
       "    <tr>\n",
       "      <th>0</th>\n",
       "      <td>정용진발 이커머스 지각변동..'승자의 저주' 우려 없나</td>\n",
       "      <td>https://news.v.daum.net/v/20210624171137447</td>\n",
       "    </tr>\n",
       "    <tr>\n",
       "      <th>1</th>\n",
       "      <td>재난지원금 소득하위 80% 유력..가구당 100만원 이상도 검토</td>\n",
       "      <td>https://news.v.daum.net/v/20210624170820312</td>\n",
       "    </tr>\n",
       "    <tr>\n",
       "      <th>2</th>\n",
       "      <td>신세계 이마트, 이베이코리아 3조4000억원에 인수 .. e커머스 2위 등극</td>\n",
       "      <td>https://news.v.daum.net/v/20210624170820311</td>\n",
       "    </tr>\n",
       "    <tr>\n",
       "      <th>3</th>\n",
       "      <td>경총 \"최저임금 1만800원, 소상공인·중기에 충격\"</td>\n",
       "      <td>https://news.v.daum.net/v/20210624170625240</td>\n",
       "    </tr>\n",
       "    <tr>\n",
       "      <th>4</th>\n",
       "      <td>신세계, 3.4조에 이베이코리아 품었다..이커머스 2위로</td>\n",
       "      <td>https://news.v.daum.net/v/20210624165908899</td>\n",
       "    </tr>\n",
       "    <tr>\n",
       "      <th>5</th>\n",
       "      <td>유통업계, 동행세일 첫 날..직원·고객 \"그게 뭐예요?\"</td>\n",
       "      <td>https://v.daum.net/v/20210624154958695</td>\n",
       "    </tr>\n",
       "    <tr>\n",
       "      <th>6</th>\n",
       "      <td>'5년마다 선수 교체' 시총 2위, 누가 먼저 따라잡나</td>\n",
       "      <td>https://v.daum.net/v/20210624164609410</td>\n",
       "    </tr>\n",
       "    <tr>\n",
       "      <th>7</th>\n",
       "      <td>'직원 식사'로 檢 수사받게 된 삼성..\"해도 너무한다\"</td>\n",
       "      <td>https://v.daum.net/v/20210624132741920</td>\n",
       "    </tr>\n",
       "    <tr>\n",
       "      <th>8</th>\n",
       "      <td>재난지원금 4인 가구 100만, 소상공 700만 윤곽..8~9월 지급</td>\n",
       "      <td>https://v.daum.net/v/20210624161025809</td>\n",
       "    </tr>\n",
       "    <tr>\n",
       "      <th>9</th>\n",
       "      <td>재난지원금 소득상위 20% 제외 가닥..캐시백 50만원선 확대</td>\n",
       "      <td>https://v.daum.net/v/20210624060051621</td>\n",
       "    </tr>\n",
       "    <tr>\n",
       "      <th>10</th>\n",
       "      <td>\"초보라도 와서 일해 달라\"..인테리어 시공현장 가보니</td>\n",
       "      <td>https://v.daum.net/v/20210624110132861</td>\n",
       "    </tr>\n",
       "    <tr>\n",
       "      <th>11</th>\n",
       "      <td>당정, 재난지원금 소득하위 80%로 확정..4인가구 100만원</td>\n",
       "      <td>https://v.daum.net/v/20210624152500565</td>\n",
       "    </tr>\n",
       "    <tr>\n",
       "      <th>12</th>\n",
       "      <td>5인 가구 125만원 재난지원금 받는다</td>\n",
       "      <td>https://v.daum.net/v/20210624155336880</td>\n",
       "    </tr>\n",
       "    <tr>\n",
       "      <th>13</th>\n",
       "      <td>'직원 식사'로 檢 수사받게 된 삼성..\"해도 너무한다\"</td>\n",
       "      <td>https://v.daum.net/v/20210624132741920</td>\n",
       "    </tr>\n",
       "    <tr>\n",
       "      <th>14</th>\n",
       "      <td>5인 가구 125만원 재난지원금 받는다</td>\n",
       "      <td>https://v.daum.net/v/20210624155336880</td>\n",
       "    </tr>\n",
       "    <tr>\n",
       "      <th>15</th>\n",
       "      <td>당정, 재난지원금 소득하위 80%로 확정..4인가구 100만원</td>\n",
       "      <td>https://v.daum.net/v/20210624152500565</td>\n",
       "    </tr>\n",
       "    <tr>\n",
       "      <th>16</th>\n",
       "      <td>노동계, 내년 최저임금 1만800원 요구..올보다 24% 올려</td>\n",
       "      <td>https://v.daum.net/v/20210624134540585</td>\n",
       "    </tr>\n",
       "  </tbody>\n",
       "</table>\n",
       "</div>"
      ],
      "text/plain": [
       "                                      Headline  \\\n",
       "0               정용진발 이커머스 지각변동..'승자의 저주' 우려 없나   \n",
       "1          재난지원금 소득하위 80% 유력..가구당 100만원 이상도 검토   \n",
       "2   신세계 이마트, 이베이코리아 3조4000억원에 인수 .. e커머스 2위 등극   \n",
       "3                경총 \"최저임금 1만800원, 소상공인·중기에 충격\"   \n",
       "4              신세계, 3.4조에 이베이코리아 품었다..이커머스 2위로   \n",
       "5              유통업계, 동행세일 첫 날..직원·고객 \"그게 뭐예요?\"   \n",
       "6               '5년마다 선수 교체' 시총 2위, 누가 먼저 따라잡나   \n",
       "7              '직원 식사'로 檢 수사받게 된 삼성..\"해도 너무한다\"   \n",
       "8       재난지원금 4인 가구 100만, 소상공 700만 윤곽..8~9월 지급   \n",
       "9           재난지원금 소득상위 20% 제외 가닥..캐시백 50만원선 확대   \n",
       "10              \"초보라도 와서 일해 달라\"..인테리어 시공현장 가보니   \n",
       "11          당정, 재난지원금 소득하위 80%로 확정..4인가구 100만원   \n",
       "12                       5인 가구 125만원 재난지원금 받는다   \n",
       "13             '직원 식사'로 檢 수사받게 된 삼성..\"해도 너무한다\"   \n",
       "14                       5인 가구 125만원 재난지원금 받는다   \n",
       "15          당정, 재난지원금 소득하위 80%로 확정..4인가구 100만원   \n",
       "16          노동계, 내년 최저임금 1만800원 요구..올보다 24% 올려   \n",
       "\n",
       "                                           Link  \n",
       "0   https://news.v.daum.net/v/20210624171137447  \n",
       "1   https://news.v.daum.net/v/20210624170820312  \n",
       "2   https://news.v.daum.net/v/20210624170820311  \n",
       "3   https://news.v.daum.net/v/20210624170625240  \n",
       "4   https://news.v.daum.net/v/20210624165908899  \n",
       "5        https://v.daum.net/v/20210624154958695  \n",
       "6        https://v.daum.net/v/20210624164609410  \n",
       "7        https://v.daum.net/v/20210624132741920  \n",
       "8        https://v.daum.net/v/20210624161025809  \n",
       "9        https://v.daum.net/v/20210624060051621  \n",
       "10       https://v.daum.net/v/20210624110132861  \n",
       "11       https://v.daum.net/v/20210624152500565  \n",
       "12       https://v.daum.net/v/20210624155336880  \n",
       "13       https://v.daum.net/v/20210624132741920  \n",
       "14       https://v.daum.net/v/20210624155336880  \n",
       "15       https://v.daum.net/v/20210624152500565  \n",
       "16       https://v.daum.net/v/20210624134540585  "
      ]
     },
     "execution_count": 51,
     "metadata": {},
     "output_type": "execute_result"
    }
   ],
   "source": [
    "pd = pandas.DataFrame(contents, columns = ['Headline', 'Link'])\n",
    "pd"
   ]
  },
  {
   "cell_type": "code",
   "execution_count": 50,
   "id": "b2b319f8",
   "metadata": {},
   "outputs": [
    {
     "name": "stderr",
     "output_type": "stream",
     "text": [
      "<ipython-input-50-3dc7abcfa197>:1: FutureWarning: As the xlwt package is no longer maintained, the xlwt engine will be removed in a future version of pandas. This is the only engine in pandas that supports writing in the xls format. Install openpyxl and write to an xlsx file instead. You can set the option io.excel.xls.writer to 'xlwt' to silence this warning. While this option is deprecated and will also raise a warning, it can be globally set and the warning suppressed.\n",
      "  pd.to_excel('./saves/economic01.xls', index = False)\n"
     ]
    }
   ],
   "source": [
    "pd.to_excel('./saves/economic01.xls', index = False)"
   ]
  },
  {
   "cell_type": "code",
   "execution_count": null,
   "id": "f64fd230",
   "metadata": {},
   "outputs": [],
   "source": []
  }
 ],
 "metadata": {
  "kernelspec": {
   "display_name": "Python 3",
   "language": "python",
   "name": "python3"
  },
  "language_info": {
   "codemirror_mode": {
    "name": "ipython",
    "version": 3
   },
   "file_extension": ".py",
   "mimetype": "text/x-python",
   "name": "python",
   "nbconvert_exporter": "python",
   "pygments_lexer": "ipython3",
   "version": "3.8.10"
  }
 },
 "nbformat": 4,
 "nbformat_minor": 5
}
